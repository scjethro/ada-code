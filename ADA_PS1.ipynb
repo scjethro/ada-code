{
 "cells": [
  {
   "cell_type": "code",
   "execution_count": null,
   "metadata": {
    "collapsed": true
   },
   "outputs": [],
   "source": [
    "# from smtplib import SMTP_SSL\n",
    "# msg = \"\"\"To: Keith Horne <kdh1@st-andrews.ac.uk>\n",
    "# Subject: Short Email Message\n",
    "\n",
    "# Dear Keith,\n",
    "\n",
    "# This is a short email message sent using the smtplib module in Python as part of the AS5001 ADA module.\n",
    "\n",
    "# Kind regards,\n",
    "\n",
    "# Alastair Marshall\n",
    "# \"\"\"\n",
    "\n",
    "\n",
    "# with SMTP(\"smtp.gmail.com\", port = 587) as smtp:\n",
    "#     smtp.starttls()\n",
    "#     smtp.login('adm22@st-andrews.ac.uk', 'xjcntvezahqbyyef')\n",
    "#     smtp.sendmail('adm22@st-andrews.ac.uk', 'adm22@st-andrews.ac.uk',msg)"
   ]
  },
  {
   "cell_type": "code",
   "execution_count": 1,
   "metadata": {
    "ExecuteTime": {
     "end_time": "2017-10-08T20:46:12.389788Z",
     "start_time": "2017-10-08T20:46:11.491601Z"
    },
    "collapsed": true
   },
   "outputs": [],
   "source": [
    "%matplotlib inline\n",
    "import imp\n",
    "\n",
    "import numpy as np, os, matplotlib.pyplot as plt\n",
    "import ada_lib_jit as ada\n",
    "from numba import njit\n",
    "\n",
    "imp.reload(ada)\n",
    "plt.style.use('bmh')"
   ]
  },
  {
   "cell_type": "code",
   "execution_count": null,
   "metadata": {
    "ExecuteTime": {
     "end_time": "2017-10-06T22:50:34.626584Z",
     "start_time": "2017-10-06T22:50:34.175763Z"
    },
    "code_folding": [],
    "collapsed": true
   },
   "outputs": [],
   "source": [
    "def hist_plot(N, bins):\n",
    "    values = ada.func_rand_uniform(-1,1,500,N)\n",
    "    cum_dist = ada.func_histogram(values, bins)[1]\n",
    "    return values, cum_dist\n",
    "\n",
    "N = 10\n",
    "data = hist_plot(N, 11)\n",
    "\n",
    "f, ax = plt.subplots(2)\n",
    "x = np.linspace(-1,1,num = N+1)\n",
    "\n",
    "ax[0].hist(data[0], bins = np.linspace(-1,1, N+1))\n",
    "ax[1].plot(x,data[1])\n",
    "\n",
    "ax[0].set_xlim(-1,1)\n",
    "ax[0].set_xticks(np.linspace(-1,1,N+1))\n",
    "ax[0].set_title(f'Histogram for N = {N}', ha = 'center')\n",
    "ax[0].set_xlabel('Data')\n",
    "ax[0].set_ylabel('Count')\n",
    "\n",
    "ax[1].set_xlim(-1,1)\n",
    "ax[1].set_xticks(np.linspace(-1,1,N+1))\n",
    "ax[1].set_yticks(np.linspace(0,N,5))\n",
    "ax[1].set_title(f'Cumulative Distribution for N = {N}', ha = 'center')\n",
    "ax[1].set_xlabel('Data')\n",
    "ax[1].set_ylabel('Cumulative Value')\n",
    "plt.tight_layout()\n",
    "\n",
    "# plt.savefig('./HW1/Report/Images/problem2_10.pdf', dpi = 800, format = 'pdf')\n",
    "\n",
    "plt.show()"
   ]
  },
  {
   "cell_type": "code",
   "execution_count": null,
   "metadata": {
    "ExecuteTime": {
     "end_time": "2017-10-06T23:17:05.471160Z",
     "start_time": "2017-10-06T23:17:04.651706Z"
    },
    "collapsed": true
   },
   "outputs": [],
   "source": [
    "N = 100\n",
    "data = hist_plot(N, N+1)\n",
    "\n",
    "f, ax = plt.subplots(2)\n",
    "x = np.linspace(-1,1,num = N+1)\n",
    "ax[0].hist(data[0],bins = np.linspace(-1,1, N+1))\n",
    "ax[1].plot(x,data[1])\n",
    "\n",
    "ax[0].set_xlim(-1,1)\n",
    "# ax[0].set_xticks(np.linspace(-1,1,N+1))\n",
    "ax[0].set_title(f'Histogram for N = {N}', ha = 'center')\n",
    "ax[0].set_xlabel('Data')\n",
    "ax[0].set_ylabel('Count')\n",
    "\n",
    "ax[1].set_xlim(-1,1)\n",
    "# ax[1].set_xticks(np.linspace(-1,1,N+1))\n",
    "ax[1].set_yticks(np.linspace(0,N,5))\n",
    "ax[1].set_title(f'Cumulative Distribution for N = {N}', ha = 'center')\n",
    "ax[1].set_xlabel('Data')\n",
    "ax[1].set_ylabel('Cumulative Value')\n",
    "plt.tight_layout()\n",
    "\n",
    "plt.savefig('./HW1/Report/Images/problem2_100.pdf', dpi = 800, format = 'pdf')\n",
    "\n",
    "plt.show()"
   ]
  },
  {
   "cell_type": "code",
   "execution_count": null,
   "metadata": {
    "ExecuteTime": {
     "end_time": "2017-10-06T23:16:58.962980Z",
     "start_time": "2017-10-06T23:16:58.121055Z"
    },
    "collapsed": true
   },
   "outputs": [],
   "source": [
    "N = 1000\n",
    "data = hist_plot(N,101)\n",
    "\n",
    "f, ax = plt.subplots(2)\n",
    "x = np.linspace(-1,1,num = 101)\n",
    "ax[0].hist(data[0],bins = np.linspace(-1,1, 101))\n",
    "ax[1].plot(x, data[1])\n",
    "\n",
    "ax[0].set_xlim(-1,1)\n",
    "# ax[0].set_xticks(np.linspace(-1,1,N+1))\n",
    "ax[0].set_title(f'Histogram for N = {N}', ha = 'center')\n",
    "ax[0].set_xlabel('Data')\n",
    "ax[0].set_ylabel('Count')\n",
    "\n",
    "ax[1].set_xlim(-1,1)\n",
    "# ax[1].set_xticks(np.linspace(-1,1,N+1))\n",
    "ax[1].set_yticks(np.linspace(0,N,5))\n",
    "ax[1].set_title(f'Cumulative Distribution for N = {N}', ha = 'center')\n",
    "ax[1].set_xlabel('Data')\n",
    "ax[1].set_ylabel('Cumulative Value')\n",
    "plt.tight_layout()\n",
    "\n",
    "plt.savefig('./HW1/Report/Images/problem2_1000.pdf', dpi = 800, format = 'pdf')\n",
    "\n",
    "\n",
    "plt.show()"
   ]
  },
  {
   "cell_type": "code",
   "execution_count": null,
   "metadata": {
    "ExecuteTime": {
     "end_time": "2017-10-06T23:16:51.326640Z",
     "start_time": "2017-10-06T23:16:50.286859Z"
    },
    "collapsed": true
   },
   "outputs": [],
   "source": [
    "N = 10000\n",
    "data = hist_plot(N, 101)\n",
    "\n",
    "f, ax = plt.subplots(2)\n",
    "x = np.linspace(-1,1,num = 101)\n",
    "ax[0].hist(data[0],bins = np.linspace(-1,1, 101))\n",
    "ax[1].plot(x,data[1])\n",
    "\n",
    "ax[0].set_xlim(-1,1)\n",
    "ax[0].set_title(f'Histogram for N = {N}', ha = 'center')\n",
    "ax[0].set_xlabel('Data')\n",
    "ax[0].set_ylabel('Count')\n",
    "\n",
    "ax[1].set_xlim(-1,1)\n",
    "ax[1].set_yticks(np.linspace(0,N,5))\n",
    "ax[1].set_title(f'Cumulative Distribution for N = {N}', ha = 'center')\n",
    "ax[1].set_xlabel('Data')\n",
    "ax[1].set_ylabel('Cumulative Value')\n",
    "plt.tight_layout()\n",
    "\n",
    "plt.savefig('./HW1/Report/Images/problem2_10000.pdf', dpi = 800, format = 'pdf')\n",
    "\n",
    "\n",
    "\n",
    "plt.show()"
   ]
  },
  {
   "cell_type": "code",
   "execution_count": null,
   "metadata": {
    "ExecuteTime": {
     "end_time": "2017-10-06T22:54:31.874435Z",
     "start_time": "2017-10-06T22:54:30.423987Z"
    },
    "collapsed": true
   },
   "outputs": [],
   "source": [
    "def gauss_plot(N):\n",
    "    seeds = np.random.random()\n",
    "    values = ada.func_rand_gaussian(0,1,seeds,N)\n",
    "    cum_dist = ada.func_histogram(values, 100)[1]\n",
    "    return values, cum_dist\n",
    "\n",
    "N = 10000\n",
    "data = gauss_plot(N)\n",
    "\n",
    "f, ax = plt.subplots(2)\n",
    "x = np.linspace(-4,4,num = 100)\n",
    "ax[0].hist(data[0], bins = 100)\n",
    "ax[1].plot(x, data[1])\n",
    "\n",
    "# ax[0].set_xlim(-1,1)\n",
    "# ax[0].set_xticks(np.linspace(-1,1,N+1))\n",
    "ax[0].set_title(f'Histogram for N = {N}', ha = 'center')\n",
    "ax[0].set_xlabel('Data')\n",
    "ax[0].set_ylabel('Count')\n",
    "\n",
    "# ax[1].set_xlim(-1,1)\n",
    "# ax[1].set_xticks(np.linspace(-1,1,N+1))\n",
    "ax[1].set_yticks(np.linspace(0,N,5))\n",
    "ax[1].set_title(f'Cumulative Distribution for N = {N}', ha = 'center')\n",
    "ax[1].set_xlabel('Data')\n",
    "ax[1].set_ylabel('Cumulative Value')\n",
    "plt.tight_layout()\n",
    "\n",
    "plt.savefig('./HW1/Report/Images/problem2_gaussian_10k.pdf', dpi = 800, format = 'pdf')\n",
    "plt.show()"
   ]
  },
  {
   "cell_type": "code",
   "execution_count": null,
   "metadata": {
    "ExecuteTime": {
     "end_time": "2017-10-06T22:56:19.557787Z",
     "start_time": "2017-10-06T22:56:18.304614Z"
    },
    "collapsed": true
   },
   "outputs": [],
   "source": [
    "def exp_plot(N):\n",
    "    values = ada.func_rand_exponential(5,12030,N)\n",
    "    cum_dist = ada.func_histogram(values, 100)[1]\n",
    "    return values, cum_dist\n",
    "\n",
    "N = 10000\n",
    "data = exp_plot(N)\n",
    "\n",
    "f, ax = plt.subplots(2)\n",
    "x = np.linspace(0,10000,num = 100)\n",
    "ax[0].hist(data[0], bins = 100)\n",
    "ax[1].plot(x,data[1])\n",
    "\n",
    "\n",
    "# ax[0].set_xlim(-1,1)\n",
    "# ax[0].set_xticks(np.linspace(-1,1,N+1))\n",
    "ax[0].set_title(f'Histogram for N = {N}', ha = 'center')\n",
    "ax[0].set_xlabel('Data')\n",
    "ax[0].set_ylabel('Count')\n",
    "\n",
    "# ax[1].set_xlim(-1,1)\n",
    "# ax[1].set_xticks(np.linspace(-1,1,N+1))\n",
    "ax[1].set_yticks(np.linspace(0,N,5))\n",
    "ax[1].set_title(f'Cumulative Distribution for N = {N}', ha = 'center')\n",
    "ax[1].set_xlabel('Data')\n",
    "ax[1].set_ylabel('Cumulative Value')\n",
    "plt.tight_layout()\n",
    "\n",
    "\n",
    "\n",
    "plt.savefig('./HW1/Report/Images/problem2_exponential_10k.pdf', dpi = 800, format = 'pdf')\n",
    "\n",
    "plt.show()"
   ]
  },
  {
   "cell_type": "code",
   "execution_count": 25,
   "metadata": {
    "ExecuteTime": {
     "end_time": "2017-10-08T21:05:36.706269Z",
     "start_time": "2017-10-08T21:05:36.690060Z"
    },
    "collapsed": true
   },
   "outputs": [],
   "source": [
    "data = np.genfromtxt('./HW1/bias.dat.csv', delimiter= ',', skip_header=1)\n",
    "x_pix = data[:,0]\n",
    "y_pix = data[:,1]\n",
    "bias  = data[:,2]"
   ]
  },
  {
   "cell_type": "code",
   "execution_count": 26,
   "metadata": {
    "ExecuteTime": {
     "end_time": "2017-10-08T21:05:37.152447Z",
     "start_time": "2017-10-08T21:05:37.145774Z"
    },
    "collapsed": true
   },
   "outputs": [],
   "source": [
    "x_pix = data[:,0]\n",
    "y_pix = data[:,1]\n",
    "bias  = data[:,2]"
   ]
  },
  {
   "cell_type": "code",
   "execution_count": 27,
   "metadata": {
    "ExecuteTime": {
     "end_time": "2017-10-08T21:05:38.665570Z",
     "start_time": "2017-10-08T21:05:37.709835Z"
    }
   },
   "outputs": [
    {
     "name": "stdout",
     "output_type": "stream",
     "text": [
      "sample mean 796.1265664160401, standard deviation 3.3083826137574253\n",
      "bias median 796.0, bias_MAD 2.606516290726817\n",
      "the error in the mean is then 0.082800166438885\n",
      "4.24026836529\n"
     ]
    }
   ],
   "source": [
    "bias_mean, bias_variance = ada.func_mean_var(bias)\n",
    "bias_median, bias_mad = ada.func_med_mad(bias)\n",
    "\n",
    "N = len(bias)\n",
    "print(f'sample mean {bias_mean}, standard deviation {(4*N-4)/(4*N-5)*np.sqrt(bias_variance)}')\n",
    "print(f'bias median {bias_median}, bias_MAD {bias_mad}')\n",
    "print(f'the error in the mean is then {np.sqrt(bias_variance/len(bias))}')\n",
    "var = (2*bias_variance**4)/(N-1)\n",
    "# std_err = (4*N-4)/(4*N-5)*np.sqrt(var)\n",
    "# print(std_err)"
   ]
  },
  {
   "cell_type": "code",
   "execution_count": null,
   "metadata": {
    "collapsed": true
   },
   "outputs": [],
   "source": [
    "# test_data = ada.func_rand_uniform(-1,1,500,10000)\n",
    "ada.func_moments(test_data,4)"
   ]
  },
  {
   "cell_type": "code",
   "execution_count": null,
   "metadata": {
    "collapsed": true
   },
   "outputs": [],
   "source": [
    "N = int(1000000)\n",
    "uniform_data = hist_plot(N)[0]"
   ]
  },
  {
   "cell_type": "code",
   "execution_count": null,
   "metadata": {
    "collapsed": true
   },
   "outputs": [],
   "source": [
    "gauss_data = gauss_plot(N)[0]"
   ]
  },
  {
   "cell_type": "code",
   "execution_count": null,
   "metadata": {
    "collapsed": true
   },
   "outputs": [],
   "source": [
    "exp_data = exp_plot(N)[0]"
   ]
  },
  {
   "cell_type": "code",
   "execution_count": null,
   "metadata": {
    "collapsed": true
   },
   "outputs": [],
   "source": []
  },
  {
   "cell_type": "code",
   "execution_count": null,
   "metadata": {
    "ExecuteTime": {
     "end_time": "2017-09-25T20:22:12.919019Z",
     "start_time": "2017-09-25T20:22:12.915015Z"
    },
    "collapsed": true
   },
   "outputs": [],
   "source": [
    "def draw_gaussians(N):\n",
    "    seeds = ada.seed_generate((N,2))\n",
    "    data = np.zeros(N)\n",
    "    for i in range(0,N):\n",
    "        data[i] = ada.func_rand_gaussian(0,1,seeds[i])[0]\n",
    "    return data"
   ]
  },
  {
   "cell_type": "code",
   "execution_count": null,
   "metadata": {
    "ExecuteTime": {
     "end_time": "2017-09-25T20:22:39.270611Z",
     "start_time": "2017-09-25T20:22:39.264114Z"
    },
    "collapsed": true,
    "scrolled": false
   },
   "outputs": [],
   "source": [
    "samples = ada.func_rand_gaussian(0,0,0,100000)"
   ]
  },
  {
   "cell_type": "code",
   "execution_count": null,
   "metadata": {
    "ExecuteTime": {
     "end_time": "2017-09-25T20:22:40.953167Z",
     "start_time": "2017-09-25T20:22:40.596913Z"
    },
    "collapsed": true,
    "scrolled": false
   },
   "outputs": [],
   "source": [
    "plt.hist(samples, bins = 'auto')\n",
    "plt.show()"
   ]
  },
  {
   "cell_type": "code",
   "execution_count": null,
   "metadata": {
    "ExecuteTime": {
     "end_time": "2017-09-21T22:44:57.162569Z",
     "start_time": "2017-09-21T22:44:56.309817Z"
    },
    "collapsed": true
   },
   "outputs": [],
   "source": [
    "mean = ada.func_mean_var(samples)[0]\n",
    "med = ada.func_med_mad(samples)[0]"
   ]
  },
  {
   "cell_type": "code",
   "execution_count": 17,
   "metadata": {
    "ExecuteTime": {
     "end_time": "2017-10-08T20:49:30.305861Z",
     "start_time": "2017-10-08T20:49:30.285282Z"
    },
    "code_folding": [],
    "collapsed": true
   },
   "outputs": [],
   "source": [
    "@njit(cache = True, nogil = False)\n",
    "def func_mc(N, M):\n",
    "    med = np.zeros(M)\n",
    "    mean = np.zeros(M)\n",
    "    seeds = ada.seed_generate(M)\n",
    "\n",
    "    for i in range(0,M):\n",
    "        data = ada.func_rand_gaussian(1,1,seeds[i], N)\n",
    "        med[i] = ada.func_med_mad(data)[0]\n",
    "        mean[i] = ada.func_mean_var(data)[0]\n",
    "#     print(f'{N}',sep=' ', end=' ', flush=True)\n",
    "    mean_mean, var_mean = ada.func_mean_var(mean)\n",
    "    mean_med, var_med = ada.func_mean_var(med)\n",
    "    \n",
    "    \n",
    "    return np.array([mean_mean, var_mean, mean_med, var_med])"
   ]
  },
  {
   "cell_type": "code",
   "execution_count": 19,
   "metadata": {
    "ExecuteTime": {
     "end_time": "2017-10-08T20:49:33.458239Z",
     "start_time": "2017-10-08T20:49:33.450752Z"
    },
    "scrolled": false
   },
   "outputs": [
    {
     "data": {
      "text/plain": [
       "array([ 0.94572142,  0.40925973,  0.94572142,  0.40925973])"
      ]
     },
     "execution_count": 19,
     "metadata": {},
     "output_type": "execute_result"
    }
   ],
   "source": [
    "func_mc(2,2)"
   ]
  },
  {
   "cell_type": "code",
   "execution_count": 33,
   "metadata": {
    "ExecuteTime": {
     "end_time": "2017-10-08T21:29:40.250822Z",
     "start_time": "2017-10-08T21:29:31.398430Z"
    }
   },
   "outputs": [],
   "source": [
    "N = 100\n",
    "data = np.zeros((N,4))\n",
    "\n",
    "for i in range(2,N+1):\n",
    "    data[i-1] = func_mc(i, 10000)\n"
   ]
  },
  {
   "cell_type": "code",
   "execution_count": 34,
   "metadata": {
    "ExecuteTime": {
     "end_time": "2017-10-08T21:29:45.819147Z",
     "start_time": "2017-10-08T21:29:43.372706Z"
    }
   },
   "outputs": [
    {
     "data": {
      "image/png": "[encoded data removed]",
      "text/plain": [
       "<matplotlib.figure.Figure at 0x107c3f0f0>"
      ]
     },
     "metadata": {},
     "output_type": "display_data"
    }
   ],
   "source": [
    "plt.scatter(np.linspace(1,101,100),np.sqrt(data[:,1]))\n",
    "plt.show()"
   ]
  },
  {
   "cell_type": "code",
   "execution_count": 35,
   "metadata": {
    "ExecuteTime": {
     "end_time": "2017-10-08T21:29:50.311106Z",
     "start_time": "2017-10-08T21:29:49.756526Z"
    }
   },
   "outputs": [
    {
     "data": {
      "image/png": "[encoded data removed]",
      "text/plain": [
       "<matplotlib.figure.Figure at 0x10ceb2780>"
      ]
     },
     "metadata": {},
     "output_type": "display_data"
    }
   ],
   "source": [
    "f, ax = plt.subplots()\n",
    "\n",
    "ax.loglog(np.linspace(1,101,100),np.sqrt(data[:,1]))\n",
    "ax.loglog(np.linspace(1,101,100),np.sqrt(data[:,3]))\n",
    "\n",
    "ax.set_title('Problem 5a')\n",
    "ax.set_xlabel('N Samples')\n",
    "plt.rc('text', usetex = True)\n",
    "ax.set_ylabel(r'$\\sigma$', fontsize = 20)\n",
    "ax.set_yscale('log')\n",
    "\n",
    "ax.legend(['Mean', 'Median'], fontsize = 15)\n",
    "\n",
    "# plt.savefig('./HW1/Report/Images/problem5_plot.pdf', dpi = 800, format = 'pdf')\n",
    "\n",
    "plt.show()"
   ]
  },
  {
   "cell_type": "code",
   "execution_count": 38,
   "metadata": {
    "ExecuteTime": {
     "end_time": "2017-10-08T21:32:25.221149Z",
     "start_time": "2017-10-08T21:32:25.208821Z"
    },
    "scrolled": false
   },
   "outputs": [
    {
     "name": "stderr",
     "output_type": "stream",
     "text": [
      "/Users/alastairmarshall/anaconda3/lib/python3.6/site-packages/ipykernel_launcher.py:1: RuntimeWarning: invalid value encountered in true_divide\n",
      "  \"\"\"Entry point for launching an IPython kernel.\n"
     ]
    },
    {
     "data": {
      "text/plain": [
       "array([        nan,  1.        ,  0.74796298,  0.84428055,  0.69163857,\n",
       "        0.78901423,  0.68231085,  0.72254593,  0.68031779,  0.72109472,\n",
       "        0.66417924,  0.70422434,  0.65815874,  0.6996534 ,  0.66590636,\n",
       "        0.6839796 ,  0.65552738,  0.68381529,  0.66889128,  0.68067721,\n",
       "        0.64803907,  0.68137772,  0.64799355,  0.67314328,  0.64875005,\n",
       "        0.67362047,  0.6520701 ,  0.67657443,  0.64992922,  0.65000418,\n",
       "        0.64664152,  0.67175645,  0.64499888,  0.64702732,  0.65911816,\n",
       "        0.67191706,  0.65095182,  0.65087872,  0.64822572,  0.65664534,\n",
       "        0.63447845,  0.65194533,  0.64717337,  0.66087369,  0.64509934,\n",
       "        0.65371245,  0.64080836,  0.66618987,  0.63318287,  0.65267278,\n",
       "        0.64241332,  0.65677972,  0.64217746,  0.6642238 ,  0.63237184,\n",
       "        0.64481778,  0.63673108,  0.64978794,  0.63906812,  0.64983864,\n",
       "        0.6432882 ,  0.65771268,  0.6352607 ,  0.66251589,  0.653647  ,\n",
       "        0.64032952,  0.62615949,  0.64576799,  0.63536439,  0.64729184,\n",
       "        0.63833777,  0.64471626,  0.64405621,  0.64125496,  0.65318177,\n",
       "        0.65367552,  0.64011013,  0.63558409,  0.63772601,  0.64914033,\n",
       "        0.6401852 ,  0.6462327 ,  0.63400275,  0.6401829 ,  0.63535786,\n",
       "        0.6373926 ,  0.63869982,  0.65519996,  0.63974637,  0.65699139,\n",
       "        0.624816  ,  0.64267009,  0.64915446,  0.64350667,  0.65180302,\n",
       "        0.65257334,  0.65328697,  0.65699804,  0.6464286 ,  0.64793866])"
      ]
     },
     "execution_count": 38,
     "metadata": {},
     "output_type": "execute_result"
    }
   ],
   "source": [
    "data[:,1]/data[:,3]"
   ]
  },
  {
   "cell_type": "code",
   "execution_count": null,
   "metadata": {
    "ExecuteTime": {
     "end_time": "2017-09-23T20:34:24.616249Z",
     "start_time": "2017-09-23T20:34:24.228596Z"
    },
    "collapsed": true
   },
   "outputs": [],
   "source": [
    "for i in range(0,10):\n",
    "    for j in range(1,10):\n",
    "        N = i*10+j\n",
    "        print(N)\n",
    "        plt.scatter(np.linspace(1,100+1,100), ada.func_rand_gaussian(1,1,18494+i, 100))\n",
    "plt.show()"
   ]
  },
  {
   "cell_type": "code",
   "execution_count": null,
   "metadata": {
    "ExecuteTime": {
     "end_time": "2017-09-25T20:11:13.675552Z",
     "start_time": "2017-09-25T20:11:13.671528Z"
    },
    "collapsed": true
   },
   "outputs": [],
   "source": [
    "x = ada.func_rand_uniform(-1,1,1000,(3,2))[1:]"
   ]
  },
  {
   "cell_type": "code",
   "execution_count": null,
   "metadata": {
    "ExecuteTime": {
     "end_time": "2017-09-25T20:11:16.039675Z",
     "start_time": "2017-09-25T20:11:16.034670Z"
    },
    "collapsed": true
   },
   "outputs": [],
   "source": [
    "x"
   ]
  },
  {
   "cell_type": "code",
   "execution_count": null,
   "metadata": {
    "ExecuteTime": {
     "end_time": "2017-09-25T20:11:17.527668Z",
     "start_time": "2017-09-25T20:11:17.523665Z"
    },
    "collapsed": true
   },
   "outputs": [],
   "source": [
    "x[:,0]"
   ]
  },
  {
   "cell_type": "code",
   "execution_count": null,
   "metadata": {
    "collapsed": true
   },
   "outputs": [],
   "source": []
  }
 ],
 "metadata": {
  "kernelspec": {
   "display_name": "Python 3",
   "language": "python",
   "name": "python3"
  },
  "language_info": {
   "codemirror_mode": {
    "name": "ipython",
    "version": 3
   },
   "file_extension": ".py",
   "mimetype": "text/x-python",
   "name": "python",
   "nbconvert_exporter": "python",
   "pygments_lexer": "ipython3",
   "version": "3.6.2"
  },
  "varInspector": {
   "cols": {
    "lenName": 16,
    "lenType": 16,
    "lenVar": 40
   },
   "kernels_config": {
    "python": {
     "delete_cmd_postfix": "",
     "delete_cmd_prefix": "del ",
     "library": "var_list.py",
     "varRefreshCmd": "print(var_dic_list())"
    },
    "r": {
     "delete_cmd_postfix": ") ",
     "delete_cmd_prefix": "rm(",
     "library": "var_list.r",
     "varRefreshCmd": "cat(var_dic_list()) "
    }
   },
   "position": {
    "height": "666px",
    "left": "1550px",
    "right": "20px",
    "top": "120px",
    "width": "337px"
   },
   "types_to_exclude": [
    "module",
    "function",
    "builtin_function_or_method",
    "instance",
    "_Feature"
   ],
   "window_display": false
  }
 },
 "nbformat": 4,
 "nbformat_minor": 2
}
